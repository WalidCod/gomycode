{
 "cells": [
  {
   "cell_type": "code",
   "execution_count": 1,
   "metadata": {},
   "outputs": [
    {
     "name": "stdout",
     "output_type": "stream",
     "text": [
      "[2002, 2009, 2016, 2023, 2037, 2044, 2051, 2058, 2072, 2079, 2086, 2093, 2107, 2114, 2121, 2128, 2142, 2149, 2156, 2163, 2177, 2184, 2191, 2198, 2212, 2219, 2226, 2233, 2247, 2254, 2261, 2268, 2282, 2289, 2296, 2303, 2317, 2324, 2331, 2338, 2352, 2359, 2366, 2373, 2387, 2394, 2401, 2408, 2422, 2429, 2436, 2443, 2457, 2464, 2471, 2478, 2492, 2499, 2506, 2513, 2527, 2534, 2541, 2548, 2562, 2569, 2576, 2583, 2597, 2604, 2611, 2618, 2632, 2639, 2646, 2653, 2667, 2674, 2681, 2688, 2702, 2709, 2716, 2723, 2737, 2744, 2751, 2758, 2772, 2779, 2786, 2793, 2807, 2814, 2821, 2828, 2842, 2849, 2856, 2863, 2877, 2884, 2891, 2898, 2912, 2919, 2926, 2933, 2947, 2954, 2961, 2968, 2982, 2989, 2996, 3003, 3017, 3024, 3031, 3038, 3052, 3059, 3066, 3073, 3087, 3094, 3101, 3108, 3122, 3129, 3136, 3143, 3157, 3164, 3171, 3178, 3192, 3199]\n"
     ]
    }
   ],
   "source": [
    "#task_1\n",
    "i=2000\n",
    "ls=[]\n",
    "for i in range(2000,3201) :\n",
    "    if i%7==0 and i%5!=0 :\n",
    "        ls.append(i)\n",
    "    i+=1\n",
    "print(ls)"
   ]
  },
  {
   "cell_type": "code",
   "execution_count": 2,
   "metadata": {},
   "outputs": [
    {
     "name": "stdout",
     "output_type": "stream",
     "text": [
      "give a number: 6\n",
      "720\n"
     ]
    }
   ],
   "source": [
    "#task_2\n",
    "x=int(input(\"give a number: \"))\n",
    "i=1\n",
    "y=1\n",
    "while i<=(x) :\n",
    "    y=y*i\n",
    "    i+=1\n",
    "    \n",
    "print(y)"
   ]
  },
  {
   "cell_type": "code",
   "execution_count": 5,
   "metadata": {},
   "outputs": [
    {
     "name": "stdout",
     "output_type": "stream",
     "text": [
      "give a number : er\n",
      "give a number : de\n",
      "give a number : 8\n",
      "{1: 1, 2: 4, 3: 9, 4: 16, 5: 25, 6: 36, 7: 49, 8: 64}\n"
     ]
    }
   ],
   "source": [
    "#task3 \n",
    "while True:\n",
    "    try: \n",
    "        x=int(input(\"give a number : \"))\n",
    "    except ValueError :\n",
    "        continue \n",
    "    else :\n",
    "        break\n",
    "d1=dict()\n",
    "d2=dict()\n",
    "i=1\n",
    "while i<=(x) :\n",
    "    d2=d1.update({i:i*i})\n",
    "    i+=1\n",
    "print(d1)"
   ]
  },
  {
   "cell_type": "code",
   "execution_count": 4,
   "metadata": {},
   "outputs": [
    {
     "name": "stdout",
     "output_type": "stream",
     "text": [
      "write a word : gomycode\n",
      "enter an index number : de\n",
      "enter an index number : 3\n",
      "gomcode\n"
     ]
    }
   ],
   "source": [
    "#task 4\n",
    "char=input(\"write a word : \")\n",
    "while True :\n",
    "    try :\n",
    "        n=int(input(\"enter an index number : \"))\n",
    "    except ValueError :\n",
    "        continue \n",
    "    else :\n",
    "        break       \n",
    "ls=list(char)\n",
    "del ls[n]\n",
    "sen=\"\"\n",
    "for x in ls :\n",
    "    sen+=x\n",
    "print(sen)"
   ]
  },
  {
   "cell_type": "code",
   "execution_count": 6,
   "metadata": {},
   "outputs": [
    {
     "name": "stdout",
     "output_type": "stream",
     "text": [
      "[[0, 1], [2, 3], [4, 5]]\n"
     ]
    }
   ],
   "source": [
    "#task 5 \n",
    "import numpy as np\n",
    "a=np.array([[0,1],[2,3],[4,5]])\n",
    "li=a.tolist()\n",
    "print(li)"
   ]
  },
  {
   "cell_type": "code",
   "execution_count": 7,
   "metadata": {},
   "outputs": [
    {
     "name": "stdout",
     "output_type": "stream",
     "text": [
      "[[ 1. -1.]\n",
      " [-1.  1.]]\n"
     ]
    }
   ],
   "source": [
    "#task 6\n",
    "import numpy as np \n",
    "x=np.array([[0,1,2],[2,1,0]])\n",
    "y=np.cov(x)\n",
    "print(y)"
   ]
  },
  {
   "cell_type": "code",
   "execution_count": 8,
   "metadata": {},
   "outputs": [
    {
     "name": "stdout",
     "output_type": "stream",
     "text": [
      "give 3 comma separated values : 100,150,180\n",
      "18,22,24,"
     ]
    }
   ],
   "source": [
    "#task 7\n",
    "import numpy as np\n",
    "from math import sqrt\n",
    "C=50\n",
    "H=30\n",
    "D=input(\"give 3 comma separated values : \").split(\",\")\n",
    "F=[]\n",
    "for i in D :\n",
    "    F.append(int(sqrt(2*C*int(i)/H)))\n",
    "for x in F :\n",
    "    print(x, end=\",\")"
   ]
  }
 ],
 "metadata": {
  "kernelspec": {
   "display_name": "Python 3",
   "language": "python",
   "name": "python3"
  },
  "language_info": {
   "codemirror_mode": {
    "name": "ipython",
    "version": 3
   },
   "file_extension": ".py",
   "mimetype": "text/x-python",
   "name": "python",
   "nbconvert_exporter": "python",
   "pygments_lexer": "ipython3",
   "version": "3.8.3"
  }
 },
 "nbformat": 4,
 "nbformat_minor": 4
}
